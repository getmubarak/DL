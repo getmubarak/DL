{
 "cells": [
  {
   "cell_type": "code",
   "execution_count": 2,
   "metadata": {
    "collapsed": false
   },
   "outputs": [
    {
     "name": "stdout",
     "output_type": "stream",
     "text": [
      "score: 1.0\n",
      "predictions: [0 1 1 0]\n",
      "expected: [0 1 1 0]\n"
     ]
    }
   ],
   "source": [
    "from sklearn.neural_network import MLPClassifier\n",
    "import numpy as np\n",
    "\n",
    "xs = np.array([\n",
    "    0, 0,\n",
    "    0, 1,\n",
    "    1, 0,\n",
    "    1, 1\n",
    "]).reshape(4, 2)\n",
    "\n",
    "ys = np.array([0, 1, 1, 0]).reshape(4,)\n",
    "\n",
    "#activation to either tanh or relu (my favourite).\n",
    "model = MLPClassifier(activation='relu', max_iter=1000, hidden_layer_sizes=(10,100))\n",
    "model.fit(xs, ys)\n",
    "\n",
    "print('score:', model.score(xs, ys)) # outputs 0.5\n",
    "print('predictions:', model.predict(xs)) # outputs [0, 0, 0, 0]\n",
    "print('expected:', np.array([0, 1, 1, 0]))"
   ]
  },
  {
   "cell_type": "code",
   "execution_count": null,
   "metadata": {
    "collapsed": true
   },
   "outputs": [],
   "source": []
  }
 ],
 "metadata": {
  "kernelspec": {
   "display_name": "Python 3",
   "language": "python",
   "name": "python3"
  },
  "language_info": {
   "codemirror_mode": {
    "name": "ipython",
    "version": 3
   },
   "file_extension": ".py",
   "mimetype": "text/x-python",
   "name": "python",
   "nbconvert_exporter": "python",
   "pygments_lexer": "ipython3",
   "version": "3.4.3"
  }
 },
 "nbformat": 4,
 "nbformat_minor": 2
}
