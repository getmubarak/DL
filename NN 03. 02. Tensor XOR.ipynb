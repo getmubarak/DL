{
 "cells": [
  {
   "cell_type": "code",
   "execution_count": 1,
   "metadata": {
    "collapsed": false
   },
   "outputs": [
    {
     "name": "stderr",
     "output_type": "stream",
     "text": [
      "/opt/ds/lib/python3.4/importlib/_bootstrap.py:321: FutureWarning: Conversion of the second argument of issubdtype from `float` to `np.floating` is deprecated. In future, it will be treated as `np.float64 == np.dtype(float).type`.\n",
      "  return f(*args, **kwds)\n",
      "WARNING:tensorflow:From /opt/ds/lib/python3.4/site-packages/tensorflow/python/util/tf_should_use.py:118: initialize_all_variables (from tensorflow.python.ops.variables) is deprecated and will be removed after 2017-03-02.\n",
      "Instructions for updating:\n",
      "Use `tf.global_variables_initializer` instead.\n"
     ]
    },
    {
     "name": "stdout",
     "output_type": "stream",
     "text": [
      "hidden layer [[-0.70722115  0.86696357]\n",
      " [-0.981812    0.87464   ]] [ 0.70731974 -0.86658186]\n",
      "output layer [[-1.259979 ]\n",
      " [-0.9448596]] [0.92410296]\n"
     ]
    }
   ],
   "source": [
    "import tensorflow as tf\n",
    "import numpy as np\n",
    " \n",
    "# our input data\n",
    "# None means we don't know the number of rows yet\n",
    "x = tf.placeholder(tf.float32, shape=[None, 2]) \n",
    " \n",
    "# the hidden layer\n",
    "wh = tf.Variable(tf.random_normal([2, 2]))\n",
    "bh = tf.Variable(tf.random_normal([2]))\n",
    "\n",
    "#tf.matmul does matrix multiplication \n",
    "h = tf.nn.relu(tf.matmul(x, wh) + bh)\n",
    " \n",
    "# the output layer\n",
    "wo = tf.Variable(tf.random_normal([2, 1]))\n",
    "bo = tf.Variable(tf.random_normal([1]))\n",
    "# No activation function for the output layer\n",
    "y = tf.matmul(h, wo) + bo\n",
    " \n",
    "# The expected output values\n",
    "y_ = tf.placeholder(tf.float32, shape=[None, 1]) \n",
    " \n",
    "# We need a cost function to measure the performance of our network\n",
    "# Here we use a simple mean square\n",
    "cost = tf.reduce_mean(tf.square(y_ - y))\n",
    " \n",
    "# Now we're ready to train our network\n",
    "train = tf.train.GradientDescentOptimizer(0.01).minimize(cost)\n",
    " \n",
    "# Initialise everything\n",
    "init = tf.initialize_all_variables()\n",
    " \n",
    "# And start the session\n",
    "sess = tf.Session()\n",
    "sess.run(init)\n",
    " \n",
    "# Our input data\n",
    "input = [[0, 0], [0, 1], [1, 0], [1, 1]]\n",
    "output = [[0], [1], [1], [0]]\n",
    " \n",
    "# Train our model\n",
    "for i in range(1000):\n",
    "  sess.run(train, feed_dict={x: input, y_: output})\n",
    " \n",
    "# Check that it works as expected\n",
    "sess.run(tf.round(y), feed_dict={x: input})\n",
    " \n",
    "# Print the network parameters (weights and biases)\n",
    "print (\"hidden layer\", sess.run(wh), sess.run(bh))\n",
    "print (\"output layer\", sess.run(wo), sess.run(bo))\n",
    "\n"
   ]
  },
  {
   "cell_type": "raw",
   "metadata": {},
   "source": [
    "input = [[0, 0], [0, 1], [1, 0], [1, 1]]\n",
    "output = [[0], [1], [1], [0]]\n",
    "x1   x2   y  w1  w2   b\n",
    "0    0    0  2   2    2\n",
    "0    1    1  2   2    2\n",
    "1    0    1  2   2    2\n",
    "1    1    0  2   2    2\n",
    "\n",
    "\n",
    "\n",
    "x1  \n",
    "    (wh1)\n",
    "            h1\n",
    "                (wo1)\n",
    "                    output\n",
    "                (wo2)\n",
    "            h2\n",
    "    (wh2)\n",
    "x2"
   ]
  },
  {
   "cell_type": "code",
   "execution_count": null,
   "metadata": {
    "collapsed": true
   },
   "outputs": [],
   "source": []
  }
 ],
 "metadata": {
  "kernelspec": {
   "display_name": "Python 3",
   "language": "python",
   "name": "python3"
  },
  "language_info": {
   "codemirror_mode": {
    "name": "ipython",
    "version": 3
   },
   "file_extension": ".py",
   "mimetype": "text/x-python",
   "name": "python",
   "nbconvert_exporter": "python",
   "pygments_lexer": "ipython3",
   "version": "3.4.3"
  }
 },
 "nbformat": 4,
 "nbformat_minor": 0
}
