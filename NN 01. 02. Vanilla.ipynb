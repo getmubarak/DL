{
 "cells": [
  {
   "cell_type": "code",
   "execution_count": 1,
   "metadata": {
    "collapsed": false
   },
   "outputs": [
    {
     "name": "stdout",
     "output_type": "stream",
     "text": [
      "364\n"
     ]
    }
   ],
   "source": [
    "import numpy as np\n",
    "\n",
    "def relu(input):\n",
    "    output = max(0, input)\n",
    "    return output\n",
    "\n",
    "def predict_with_network(input_data):\n",
    "    node_0_0_input = (weights['node_0_0'] * input_data).sum()\n",
    "    node_0_0_output = relu(node_0_0_input)\n",
    "    node_0_1_input = (weights['node_0_1'] * input_data).sum()\n",
    "    node_0_1_output = relu(node_0_1_input)\n",
    "    \n",
    "    hidden_0_outputs = np.array([node_0_0_output, node_0_1_output])\n",
    "    node_1_0_input = (weights['node_1_0'] * hidden_0_outputs).sum()\n",
    "    node_1_0_output = relu(node_1_0_input)\n",
    "    node_1_1_input = (weights['node_1_1'] * hidden_0_outputs).sum()\n",
    "    node_1_1_output = relu(node_1_1_input)\n",
    "    \n",
    "    hidden_1_outputs = np.array([node_1_0_output, node_1_1_output])    \n",
    "    model_output = (weights['output'] * hidden_1_outputs).sum()\n",
    "    \n",
    "    return model_output\n",
    "\n",
    "if __name__ == '__main__':\n",
    "    input_data = np.array([3, 5])\n",
    "    weights = {'node_0_0': np.array([2, 4]),\n",
    "               'node_0_1': np.array([ 4, -5]),\n",
    "               'node_1_0': np.array([-1,  1]),\n",
    "               'node_1_1': np.array([2, 2]),\n",
    "               'output': np.array([2, 7])}\n",
    "    output = predict_with_network(input_data)\n",
    "    print(output)"
   ]
  },
  {
   "cell_type": "code",
   "execution_count": null,
   "metadata": {
    "collapsed": true
   },
   "outputs": [],
   "source": []
  }
 ],
 "metadata": {
  "kernelspec": {
   "display_name": "Python 3",
   "language": "python",
   "name": "python3"
  },
  "language_info": {
   "codemirror_mode": {
    "name": "ipython",
    "version": 3
   },
   "file_extension": ".py",
   "mimetype": "text/x-python",
   "name": "python",
   "nbconvert_exporter": "python",
   "pygments_lexer": "ipython3",
   "version": "3.4.3"
  }
 },
 "nbformat": 4,
 "nbformat_minor": 0
}
