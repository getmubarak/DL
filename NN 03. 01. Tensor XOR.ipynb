{
 "cells": [
  {
   "cell_type": "raw",
   "metadata": {},
   "source": [
    "input     \n",
    "----- \n",
    "x1    \n",
    "x2   \n",
    "b   \n",
    "\n",
    "hidden\n",
    "------\n",
    "h1\n",
    "h2\n",
    "h3\n",
    "\n",
    "input-hidden weights [2 x3]\n",
    "----------------------\n",
    "w11 (x1h1)\n",
    "w12 (x1h2)\n",
    "w13 (x1h3)\n",
    "w21 (x2h1)\n",
    "w22 (x2h2)\n",
    "w23 (x2h3)\n",
    "b1   (bh1)\n",
    "b2   (bh2)\n",
    "b3   (bh3)\n"
   ]
  },
  {
   "cell_type": "code",
   "execution_count": 4,
   "metadata": {
    "collapsed": false
   },
   "outputs": [],
   "source": [
    "import tensorflow as tf\n",
    "import numpy as np\n",
    "\n",
    "x=tf.placeholder(tf.float32,[None,2],name='x')\n",
    "y=tf.placeholder(tf.float32,shape=[None, 1],name='y')\n",
    "\n"
   ]
  },
  {
   "cell_type": "code",
   "execution_count": 5,
   "metadata": {
    "collapsed": true
   },
   "outputs": [],
   "source": [
    "\n",
    "# we have 2 input neuron and 3 hidden neuron,So there will be total 2×3 number of connections in between.\n",
    "wh=tf.Variable(tf.random_normal(shape=[2,3],stddev=0.02))\n",
    "bh=tf.Variable(tf.random_normal(shape=[3],stddev=0.02))\n",
    "\n",
    "hLayer=tf.matmul(x,wh)\n",
    "hLayer=hLayer+bh\n",
    "hLayer=tf.sigmoid(hLayer)\n"
   ]
  },
  {
   "cell_type": "raw",
   "metadata": {},
   "source": [
    "So here is two matrix operations first one is matrix multiplications of inputs and the weights1 matrix which will produce the output without bias. and in the next line we did matrix addition which basically performed an element by element additions.last thing is applying the activation function.\n",
    " \n",
    " |x1 x2| * |w11 w12  w13|  + | b1 b2 b3|\n",
    "           |w21 w22  w23|\n",
    "  \n",
    " | (x1*w11 + x2* w21)   (x1 * w12 + x2 * w22)  (x1 * w13 + x2 * w23) |  + | b1 b2 b3|\n",
    " \n",
    " | ((x1*w11 + x2* w21) + b1)  ((x1 * w12 + x2 * w22) + b2)  ((x1 * w13 + x2 * w23) + b3) | \n",
    " \n",
    " | sig((x1*w11 + x2* w21) + b1)  sig((x1 * w12 + x2 * w22) + b2)  sig((x1 * w13 + x2 * w23) + b3) | \n",
    " "
   ]
  },
  {
   "cell_type": "raw",
   "metadata": {},
   "source": [
    "As we can see the output layer has only 1 neuron and the previous hidden layer had 3 neurons. So the weight matrix has 3 input and 1 output thus the shape is [3,1]. and the bias has only one neuron to connect to thus bias shape is [1]\n",
    "\n",
    "output\n",
    "------\n",
    "o1\n",
    "\n",
    "hidden-output weights [3x1]\n",
    "----------------------\n",
    "w11 (h1o)\n",
    "w21 (h2o)\n",
    "w31 (h3o)\n",
    "b1   (b0)"
   ]
  },
  {
   "cell_type": "code",
   "execution_count": 6,
   "metadata": {
    "collapsed": true
   },
   "outputs": [],
   "source": [
    "\n",
    "wo=tf.Variable(tf.random_normal(shape=[3,1],stddev=0.02))\n",
    "bo=tf.Variable(tf.random_normal(shape=[1],stddev=0.02))\n",
    "output=tf.matmul(hLayer,wo)\n",
    "output=output+bo\n",
    "output=tf.sigmoid(output)\n"
   ]
  },
  {
   "cell_type": "code",
   "execution_count": 7,
   "metadata": {
    "collapsed": false
   },
   "outputs": [],
   "source": [
    "\n",
    "# We need a cost function to measure the performance of our network\n",
    "# Here we use a simple mean square\n",
    "# cost = tf.reduce_mean(tf.square(output - y)) \n",
    "# Now we're ready to train our network\n",
    "# train = tf.train.GradientDescentOptimizer(0.01).minimize(cost)\n",
    " \n",
    "cost=tf.squared_difference(output, y)\n",
    "cost=tf.reduce_mean(cost)\n",
    "train=tf.train.AdamOptimizer().minimize(cost)"
   ]
  },
  {
   "cell_type": "raw",
   "metadata": {},
   "source": [
    "The Adam optimization algorithm is an extension to stochastic gradient descent that has recently seen broader adoption for deep learning applications in computer vision and natural language processing.\n",
    "\n",
    "Adam is an optimization algorithm that can used instead of the classical stochastic gradient descent procedure to update network weights iterative based in training data.\n",
    "\n"
   ]
  },
  {
   "cell_type": "code",
   "execution_count": 8,
   "metadata": {
    "collapsed": false
   },
   "outputs": [],
   "source": [
    "#generating inputs\n",
    "import numpy as np\n",
    "\n",
    " \n",
    "# Our input data\n",
    "inputData = [[0, 0], [0, 1], [1, 0], [1, 1]]\n",
    "outputData = [[0], [1], [1], [0]]\n"
   ]
  },
  {
   "cell_type": "code",
   "execution_count": 9,
   "metadata": {
    "collapsed": false
   },
   "outputs": [
    {
     "name": "stderr",
     "output_type": "stream",
     "text": [
      "WARNING:tensorflow:From /opt/ds/lib/python3.4/site-packages/tensorflow/python/util/tf_should_use.py:118: initialize_all_variables (from tensorflow.python.ops.variables) is deprecated and will be removed after 2017-03-02.\n",
      "Instructions for updating:\n",
      "Use `tf.global_variables_initializer` instead.\n"
     ]
    },
    {
     "name": "stdout",
     "output_type": "stream",
     "text": [
      "hidden layer [[ 0.00301135  0.04476776  0.00417647]\n",
      " [-0.01574593 -0.00707378 -0.00833418]] [-0.02006495 -0.00354882 -0.05502903]\n",
      "output layer [[ 0.00633346]\n",
      " [-0.00237611]\n",
      " [-0.03589819]] [-0.02066363]\n",
      "hidden layer [[-4.786335   4.1182685 -3.8839197]\n",
      " [ 3.9239163 -4.779386  -3.8717492]] [-1.9927686  -2.2012079   0.30999956]\n",
      "output layer [[ 4.3223467]\n",
      " [ 4.359578 ]\n",
      " [-3.0701723]] [-1.8948133]\n"
     ]
    }
   ],
   "source": [
    "# Initialise everything\n",
    "init = tf.initialize_all_variables()\n",
    " \n",
    "# And start the session\n",
    "sess = tf.Session()\n",
    "sess.run(init)\n",
    "   \n",
    "\n",
    "# Print the network parameters (weights and biases)\n",
    "print (\"hidden layer\", sess.run(wh), sess.run(bh))\n",
    "print (\"output layer\", sess.run(wo), sess.run(bo))\n",
    "\n",
    "# Train 4000 times.\n",
    "for i in range(4000):\n",
    "    sess.run(train,feed_dict={x: inputData,y:outputData})\n",
    "\n",
    "# Print the network parameters (weights and biases)\n",
    "print (\"hidden layer\", sess.run(wh), sess.run(bh))\n",
    "print (\"output layer\", sess.run(wo), sess.run(bo))\n"
   ]
  },
  {
   "cell_type": "code",
   "execution_count": 10,
   "metadata": {
    "collapsed": false
   },
   "outputs": [
    {
     "name": "stdout",
     "output_type": "stream",
     "text": [
      "type 1st input :1\n",
      "type 2nd inp0ut :2\n",
      "[array([[0.7899463]], dtype=float32)]\n"
     ]
    }
   ],
   "source": [
    "a = input(\"type 1st input :\")\n",
    "b = input(\"type 2nd inp0ut :\")\n",
    "inp=[[a,b]]\n",
    "inp=np.array(inp)\n",
    "prediction=sess.run([output],feed_dict={x: inp})\n",
    "print(prediction)"
   ]
  },
  {
   "cell_type": "code",
   "execution_count": null,
   "metadata": {
    "collapsed": false
   },
   "outputs": [],
   "source": [
    "#Saving The Session for later\n",
    "\n",
    "saver = tf.train.Saver()\n",
    "with tf.Session() as sess:\n",
    "    tf.global_variables_initializer().run()\n",
    "    for i in range(1000):\n",
    "        sess.run(train,feed_dict={x: inputData,y:outputData})\n",
    "    saver.save(sess, \"model.ckpt\") # saving the session with file name \"model.ckpt\""
   ]
  },
  {
   "cell_type": "code",
   "execution_count": null,
   "metadata": {
    "collapsed": true
   },
   "outputs": [],
   "source": [
    "#Restoring/Loading the session\n",
    "\n",
    "saver = tf.train.Saver()\n",
    "with tf.Session() as sess:\n",
    "    saver.restore(sess, \"model.ckpt\")\n",
    "    while True:\n",
    "        a = input(\"type 1st input :\")\n",
    "        b = input(\"type 2nd input :\")\n",
    "        inp=[[a,b]]\n",
    "        inp=np.array(inp)\n",
    "        prediction=sess.run([output],feed_dict={inputs: inp})\n",
    "        print(prediction)"
   ]
  }
 ],
 "metadata": {
  "kernelspec": {
   "display_name": "Python 3",
   "language": "python",
   "name": "python3"
  },
  "language_info": {
   "codemirror_mode": {
    "name": "ipython",
    "version": 3
   },
   "file_extension": ".py",
   "mimetype": "text/x-python",
   "name": "python",
   "nbconvert_exporter": "python",
   "pygments_lexer": "ipython3",
   "version": "3.4.3"
  }
 },
 "nbformat": 4,
 "nbformat_minor": 0
}
